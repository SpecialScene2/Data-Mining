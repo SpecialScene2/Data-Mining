{
 "cells": [
  {
   "cell_type": "markdown",
   "metadata": {},
   "source": [
    "## Feature Selection for Machine Learning"
   ]
  },
  {
   "cell_type": "markdown",
   "metadata": {},
   "source": [
    "### 1. Univariate Selection \n",
    "- Univariate : 단변량\n",
    "  - 단변량은 단 하나의 변수의 표현식, 방정식, 함수 또는 다항식을 나타냄. 하나의 변수\n",
    "  - Chi-sqd, t검정, 분산분석(ANOVA), 회귀분석(Regression) 등에 의한 자료분석은 단변량분석에 해당\n",
    "- multivariate : 다변량\n",
    "  - 여러 개의 독립변수에 대한 여러 개의 종속변수를 동시에 분석해 보는 통계적 방법을 다변량분석\n",
    "  - 통계적으로는 종속변수의 관계성(relationships)을 고려한 상태에서 여러 개의 단변량분석을 동시에 수행하는 것"
   ]
  },
  {
   "cell_type": "code",
   "execution_count": 1,
   "metadata": {},
   "outputs": [],
   "source": [
    "# Feature Extraction with Univariate Statistical Tests (Chi-squared for classification)\n",
    "import pandas\n",
    "import numpy\n",
    "from sklearn.feature_selection import SelectKBest\n",
    "from sklearn.feature_selection import chi2"
   ]
  },
  {
   "cell_type": "code",
   "execution_count": 2,
   "metadata": {},
   "outputs": [
    {
     "name": "stdout",
     "output_type": "stream",
     "text": [
      "[[   6.     148.      72.    ...,   33.6      0.627   50.   ]\n",
      " [   1.      85.      66.    ...,   26.6      0.351   31.   ]\n",
      " [   8.     183.      64.    ...,   23.3      0.672   32.   ]\n",
      " ..., \n",
      " [   5.     121.      72.    ...,   26.2      0.245   30.   ]\n",
      " [   1.     126.      60.    ...,   30.1      0.349   47.   ]\n",
      " [   1.      93.      70.    ...,   30.4      0.315   23.   ]]\n"
     ]
    }
   ],
   "source": [
    "# load data\n",
    "url = \"https://raw.githubusercontent.com/jbrownlee/Datasets/master/pima-indians-diabetes.data.csv\"\n",
    "names = ['preg', 'plas', 'pres', 'skin', 'test', 'mass', 'pedi', 'age', 'class']\n",
    "dataframe = pandas.read_csv(url, names=names)\n",
    "# url에 있는 data는 Feature가 없어서 names가 필요함.\n",
    "\n",
    "array = dataframe.values\n",
    "array2 = dataframe\n",
    "# print(\"어레이\")\n",
    "# print(array)\n",
    "# array2는 coulumn명이 들어가있는 데이터 프레임 형태이다.\n",
    "\n",
    "X = array[:,0:8]\n",
    "Y = array[:,8]\n",
    "# X로 칭한 8개의 Column의 조합이 Y를 설명할 수 있다.\n",
    "print(X)\n",
    "# print(Y)"
   ]
  },
  {
   "cell_type": "code",
   "execution_count": 3,
   "metadata": {},
   "outputs": [],
   "source": [
    "# feature extraction\n",
    "# SelectKBest는 고정된 k개의 특성을 선택\n",
    "test = SelectKBest(score_func=chi2, k=4)\n",
    "# 위 내용은 카이스퀘어 검정으로 검정하여 4개의 피쳐를 뽑는다는 뜻\n",
    "\n",
    "fit = test.fit(X, Y)\n",
    "# X must contain only non-negative features such as booleans or frequencies\n",
    "# 카이스퀘어 분포는 항상 양수값만을 갖는 특징"
   ]
  },
  {
   "cell_type": "code",
   "execution_count": 4,
   "metadata": {},
   "outputs": [
    {
     "name": "stdout",
     "output_type": "stream",
     "text": [
      "[  111.52   1411.887    17.605    53.108  2175.565   127.669     5.393\n",
      "   181.304]\n",
      "[[ 148.     0.    33.6   50. ]\n",
      " [  85.     0.    26.6   31. ]\n",
      " [ 183.     0.    23.3   32. ]\n",
      " ..., \n",
      " [ 121.   112.    26.2   30. ]\n",
      " [ 126.     0.    30.1   47. ]\n",
      " [  93.     0.    30.4   23. ]]\n"
     ]
    }
   ],
   "source": [
    "# summarize scores\n",
    "numpy.set_printoptions(precision=3)\n",
    "print(fit.scores_)\n",
    "features = fit.transform(X)\n",
    "print(features)"
   ]
  },
  {
   "cell_type": "code",
   "execution_count": 5,
   "metadata": {},
   "outputs": [
    {
     "name": "stdout",
     "output_type": "stream",
     "text": [
      "[[ 148.     0.    33.6   50. ]\n",
      " [  85.     0.    26.6   31. ]\n",
      " [ 183.     0.    23.3   32. ]\n",
      " [  89.    94.    28.1   21. ]\n",
      " [ 137.   168.    43.1   33. ]]\n"
     ]
    }
   ],
   "source": [
    "# summarize selected features\n",
    "print(features[0:5,:])"
   ]
  },
  {
   "cell_type": "code",
   "execution_count": null,
   "metadata": {},
   "outputs": [],
   "source": []
  }
 ],
 "metadata": {
  "kernelspec": {
   "display_name": "Python 3",
   "language": "python",
   "name": "python3"
  },
  "language_info": {
   "codemirror_mode": {
    "name": "ipython",
    "version": 3
   },
   "file_extension": ".py",
   "mimetype": "text/x-python",
   "name": "python",
   "nbconvert_exporter": "python",
   "pygments_lexer": "ipython3",
   "version": "3.6.3"
  }
 },
 "nbformat": 4,
 "nbformat_minor": 2
}
