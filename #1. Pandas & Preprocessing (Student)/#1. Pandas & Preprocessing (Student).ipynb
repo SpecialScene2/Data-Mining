{
 "cells": [
  {
   "cell_type": "markdown",
   "metadata": {},
   "source": [
    "# Pandas & Preprocessing\n",
    "FIRA 빅데이터 플랫폼 과정 <데이터마이닝> - 2017.08.11.금 09:00-13:00"
   ]
  },
  {
   "cell_type": "markdown",
   "metadata": {},
   "source": [
    "### 1. Pandas Tutorial\n",
    "- 1-1. Data Structure\n",
    "- 1-2. Selection : Getting, Slicing\n",
    "- 1.3. Add New Rows & Columns\n",
    "- 1-4. Inspection\n",
    "- 1-5. Arithmetic\n",
    "- 1-6. Map & Apply Function\n",
    "- 1-7. Sort\n",
    "    \n",
    "### 2. Preprocessing\n",
    "- 2-1. Data from .csv, .sql to DataFrame\n",
    "- 2-2. Merge/Join two DataFrame : .merge()\n",
    "- 2-3. Fill or Abandon NaN values\n",
    "- 2-4. Save & Load as DataFrame : pickle\n",
    "- 2-5. Data Summary : .groupby()\n",
    "\n",
    "### 실습 : 군집화 실습 데이터 기본 전처리\n",
    "    \n",
    "### 3. Basic Visualization : Scatter Plot of Normalized Total Volume vs. Normalized Value\n",
    "- 3-1. `matplotlib.pyplot`\n",
    "- 3-2. `bokeh.js`"
   ]
  },
  {
   "cell_type": "markdown",
   "metadata": {},
   "source": [
    "### 1. Pandas Tutorial\n",
    "---\n",
    "Pandas는 NumPy를 기반으로 하는 데이터 분석에 최적화된 파이썬 라이브러리입니다. Series, DataFrame의 데이터 구조를 제공하고 이를 계산하는 도구를 제공하여 데이터 분석을 보다 편리하게 해줍니다."
   ]
  },
  {
   "cell_type": "code",
   "execution_count": 1,
   "metadata": {},
   "outputs": [],
   "source": [
    "# import package - version check 필수\n",
    "import pandas as pd"
   ]
  },
  {
   "cell_type": "markdown",
   "metadata": {},
   "source": [
    "#### 1.1. Data Structure\n",
    "---\n",
    "#### pd.Series \n",
    "1. Labeling이 가능한 1차원 Array Object \n",
    "2. 모두 같은 데이터형을 가집니다."
   ]
  },
  {
   "cell_type": "code",
   "execution_count": 2,
   "metadata": {},
   "outputs": [
    {
     "data": {
      "text/plain": [
       "a    3\n",
       "b   -5\n",
       "c    7\n",
       "d    4\n",
       "dtype: int64"
      ]
     },
     "execution_count": 2,
     "metadata": {},
     "output_type": "execute_result"
    }
   ],
   "source": [
    "# index가 ['a', 'b', 'c', 'd']이고, 값이 [3, -5, 7, 4]인 Series\n",
    "s = pd.Series([3, -5, 7, 4], index=['a','b','c','d']) #index가 행번호처럼 1열에 생성됨\n",
    "s\n",
    "# s[1:] index 0을 제외한 index 1~끝까지 data나옴\n",
    "# 1차원이니 열은 없음 따라서, 열단위로 값을 불러올 순 없다."
   ]
  },
  {
   "cell_type": "markdown",
   "metadata": {},
   "source": [
    "#### pd.DataFrame \n",
    "1. Labeling이 가능한 2차원 Array Object\n",
    "2. column 별로 서로 다른 데이터형을 가질 수 있습니다."
   ]
  },
  {
   "cell_type": "code",
   "execution_count": 3,
   "metadata": {},
   "outputs": [],
   "source": [
    "data = {'Country': ['Belgium', 'India', 'Brazil'],\n",
    "        'Capital': ['Brussels', 'New Delhi', 'Brasília'],\n",
    "        'Population': [11190846, 1303171035, 207847528]}\n",
    "# dict 형태이며 key값이 column명이됨"
   ]
  },
  {
   "cell_type": "code",
   "execution_count": 4,
   "metadata": {},
   "outputs": [
    {
     "data": {
      "text/html": [
       "<div>\n",
       "<style scoped>\n",
       "    .dataframe tbody tr th:only-of-type {\n",
       "        vertical-align: middle;\n",
       "    }\n",
       "\n",
       "    .dataframe tbody tr th {\n",
       "        vertical-align: top;\n",
       "    }\n",
       "\n",
       "    .dataframe thead th {\n",
       "        text-align: right;\n",
       "    }\n",
       "</style>\n",
       "<table border=\"1\" class=\"dataframe\">\n",
       "  <thead>\n",
       "    <tr style=\"text-align: right;\">\n",
       "      <th></th>\n",
       "      <th>Capital</th>\n",
       "      <th>Country</th>\n",
       "      <th>Population</th>\n",
       "    </tr>\n",
       "  </thead>\n",
       "  <tbody>\n",
       "    <tr>\n",
       "      <th>7</th>\n",
       "      <td>Brussels</td>\n",
       "      <td>Belgium</td>\n",
       "      <td>11190846</td>\n",
       "    </tr>\n",
       "    <tr>\n",
       "      <th>8</th>\n",
       "      <td>New Delhi</td>\n",
       "      <td>India</td>\n",
       "      <td>1303171035</td>\n",
       "    </tr>\n",
       "    <tr>\n",
       "      <th>9</th>\n",
       "      <td>Brasília</td>\n",
       "      <td>Brazil</td>\n",
       "      <td>207847528</td>\n",
       "    </tr>\n",
       "  </tbody>\n",
       "</table>\n",
       "</div>"
      ],
      "text/plain": [
       "     Capital  Country  Population\n",
       "7   Brussels  Belgium    11190846\n",
       "8  New Delhi    India  1303171035\n",
       "9   Brasília   Brazil   207847528"
      ]
     },
     "execution_count": 4,
     "metadata": {},
     "output_type": "execute_result"
    }
   ],
   "source": [
    "# 위의 데이터를 DataFrame으로 변환\n",
    "#df = pd.DataFrame(data)\n",
    "\n",
    "df = pd.DataFrame(data, index=[7,8,9])\n",
    "#index는 rowname을 바꿔주는것임.\n",
    "#index = (1,2,3) or index=[1,2,3] 이렇게 해줘도 됨\n",
    "#칼럼 순서는 어떻게 바꿔주지??\n",
    "df"
   ]
  },
  {
   "cell_type": "markdown",
   "metadata": {},
   "source": [
    "#### 1.2. Selection : Getting, Slicing\n",
    "---\n",
    "\n",
    "##### Getting"
   ]
  },
  {
   "cell_type": "markdown",
   "metadata": {},
   "source": [
    "### [시작row_idx, 끝row_idx]\n",
    "### 주의!!!! row_idx는 첫번째 행이 0이다."
   ]
  },
  {
   "cell_type": "code",
   "execution_count": 5,
   "metadata": {},
   "outputs": [
    {
     "name": "stdout",
     "output_type": "stream",
     "text": [
      "-5\n",
      "3\n"
     ]
    }
   ],
   "source": [
    "# Series : By index(series에서 index는 series에서 쓰는 index이다)\n",
    "# 1차원이니 row index를 입력해서 값들을 get할 수 있다.\n",
    "#(예) 두가지 방식으로 Getting할 수 있다.\n",
    "s['b']\n",
    "print(s[1])\n",
    "print(s['a'])"
   ]
  },
  {
   "cell_type": "markdown",
   "metadata": {},
   "source": [
    "#### DataFrame : Row 불러오기(row index 번호를 써준다)"
   ]
  },
  {
   "cell_type": "code",
   "execution_count": 6,
   "metadata": {},
   "outputs": [
    {
     "data": {
      "text/html": [
       "<div>\n",
       "<style scoped>\n",
       "    .dataframe tbody tr th:only-of-type {\n",
       "        vertical-align: middle;\n",
       "    }\n",
       "\n",
       "    .dataframe tbody tr th {\n",
       "        vertical-align: top;\n",
       "    }\n",
       "\n",
       "    .dataframe thead th {\n",
       "        text-align: right;\n",
       "    }\n",
       "</style>\n",
       "<table border=\"1\" class=\"dataframe\">\n",
       "  <thead>\n",
       "    <tr style=\"text-align: right;\">\n",
       "      <th></th>\n",
       "      <th>Capital</th>\n",
       "      <th>Country</th>\n",
       "      <th>Population</th>\n",
       "    </tr>\n",
       "  </thead>\n",
       "  <tbody>\n",
       "    <tr>\n",
       "      <th>8</th>\n",
       "      <td>New Delhi</td>\n",
       "      <td>India</td>\n",
       "      <td>1303171035</td>\n",
       "    </tr>\n",
       "    <tr>\n",
       "      <th>9</th>\n",
       "      <td>Brasília</td>\n",
       "      <td>Brazil</td>\n",
       "      <td>207847528</td>\n",
       "    </tr>\n",
       "  </tbody>\n",
       "</table>\n",
       "</div>"
      ],
      "text/plain": [
       "     Capital Country  Population\n",
       "8  New Delhi   India  1303171035\n",
       "9   Brasília  Brazil   207847528"
      ]
     },
     "execution_count": 6,
     "metadata": {},
     "output_type": "execute_result"
    }
   ],
   "source": [
    "# 한 row가져오기 df[시직row_idx, 끝row_idx] : range랑 다르게 시작이 포함안된다. df[1:]는 1행뺴고나온다(column명은 0행)\n",
    "df[1:] # index 1행부터 가져온다.(첫번쨰 행은 0이다.)\n",
    "#df[0:0] : column명들만 나온다(특이케이스) & index 0하면 여기부분은 자동으로 포함됨\n",
    "#df[0:1] : column명하고 index 0행이 나온다 -> [0:1] 단순히 row index 0이라 생각하자"
   ]
  },
  {
   "cell_type": "markdown",
   "metadata": {},
   "source": [
    "#### DataFrame : Column 불러오기(Column 명을 써준다)\n",
    "#### ※Column을 여러개 불러야할 땐, [ ]를 2개 중첩해서 써야한다.\n",
    "#### (예) df[['Country', Population]]"
   ]
  },
  {
   "cell_type": "code",
   "execution_count": 7,
   "metadata": {},
   "outputs": [
    {
     "data": {
      "text/plain": [
       "7     Brussels\n",
       "8    New Delhi\n",
       "9     Brasília\n",
       "Name: Capital, dtype: object"
      ]
     },
     "execution_count": 7,
     "metadata": {},
     "output_type": "execute_result"
    }
   ],
   "source": [
    "# Column 1개 부르기 : df['칼럼명1', '칼럼명2']\n",
    "df['Capital']\n",
    "# Column 2개 부르기(대괄호 2개해야한다)\n",
    "#df[['Capital','Country']]"
   ]
  },
  {
   "cell_type": "markdown",
   "metadata": {},
   "source": [
    "##### Slicing\n",
    "* df.iloc : index를 통한 slicing(only index만 써줘야한다)\n",
    "* df.loc : index, label을 통한 slicing(row index, cloumn이름)"
   ]
  },
  {
   "cell_type": "code",
   "execution_count": 8,
   "metadata": {},
   "outputs": [
    {
     "data": {
      "text/plain": [
       "8    New Delhi\n",
       "7     Brussels\n",
       "Name: Capital, dtype: object"
      ]
     },
     "execution_count": 8,
     "metadata": {},
     "output_type": "execute_result"
    }
   ],
   "source": [
    "# By Position\n",
    "#df.iloc[0,0] # [row index 0, col index 0]을 뜻함 \n",
    "#df.iloc[0,1]\n",
    "\n",
    "#column만 부르는 방법 : df.iloc[0:, 원하는 col index]\n",
    "# ※df.iloc[0:, 1] = df['Country'] =df.loc[0:,'Country']\n",
    "\n",
    "#df.iloc[1:,0] #행은 index 1:끝까지, 열은 index 0만 나옴\n",
    "#이렇게 부르면(열을 한줄만 부르게되면) series가 불러짐(맨아랫줄에 Name: Capital, dtype : object가 나옴)\n",
    "\n",
    "df.iloc[[1,0],0] # row: 0번, 1번 그리고 0번쨰 column \n",
    "#★순서가 row index 1번이 먼저 나오는게 특징\n",
    "\n",
    "#df.iloc[1:,0] #이건 1번 row부터 쭉 다나오는데 column은 0번"
   ]
  },
  {
   "cell_type": "markdown",
   "metadata": {},
   "source": [
    "### df.loc[row_idx, 'col이름']\n",
    "### : 주의사항으로 row_idx는 우리가 준 idx이고 iloc row_idx는 첫row가 0이다."
   ]
  },
  {
   "cell_type": "code",
   "execution_count": 9,
   "metadata": {},
   "outputs": [],
   "source": [
    "# By Label(row name과 col name을 써준다) int형 row name에는 ''쓰면 error발생\n",
    "#df.loc[1, 'Capital'] #df.loc[row 이름, col 이름]\n",
    "#df.iloc[0,0]과 같다."
   ]
  },
  {
   "cell_type": "markdown",
   "metadata": {},
   "source": [
    "##### Boolean Indexing (Mask) : 마스크를 씌운다고 표현함\n",
    "해당 조건을 만족하는 부분만 slicing - True/False 기반"
   ]
  },
  {
   "cell_type": "code",
   "execution_count": 10,
   "metadata": {},
   "outputs": [
    {
     "data": {
      "text/plain": [
       "a    3\n",
       "b   -5\n",
       "c    7\n",
       "d    4\n",
       "dtype: int64"
      ]
     },
     "execution_count": 10,
     "metadata": {},
     "output_type": "execute_result"
    }
   ],
   "source": [
    "#사용할 data\n",
    "s = pd.Series([3, -5, 7, 4], index=['a','b','c','d'])\n",
    "s"
   ]
  },
  {
   "cell_type": "code",
   "execution_count": 11,
   "metadata": {},
   "outputs": [
    {
     "data": {
      "text/plain": [
       "a    3\n",
       "c    7\n",
       "d    4\n",
       "dtype: int64"
      ]
     },
     "execution_count": 11,
     "metadata": {},
     "output_type": "execute_result"
    }
   ],
   "source": [
    "# s에서 1보다 큰 부분만 출력\n",
    "s[s>1] #s>1이 참인 값들만 출력"
   ]
  },
  {
   "cell_type": "code",
   "execution_count": 12,
   "metadata": {},
   "outputs": [
    {
     "data": {
      "text/plain": [
       "a     True\n",
       "b    False\n",
       "c     True\n",
       "d     True\n",
       "dtype: bool"
      ]
     },
     "execution_count": 12,
     "metadata": {},
     "output_type": "execute_result"
    }
   ],
   "source": [
    "# Boolean Mask? : 이렇게 True, False값으로 mask를 씌운다고 이해하자\n",
    "s>1"
   ]
  },
  {
   "cell_type": "code",
   "execution_count": 13,
   "metadata": {},
   "outputs": [
    {
     "data": {
      "text/plain": [
       "b   -5\n",
       "dtype: int64"
      ]
     },
     "execution_count": 13,
     "metadata": {},
     "output_type": "execute_result"
    }
   ],
   "source": [
    "# 부정 조건 : 부정조건은 '~'를 써준다 ()를 안 써줘도 된다.\n",
    "s[~(s>1)]\n",
    "#s[~s>1] 도 가능"
   ]
  },
  {
   "cell_type": "code",
   "execution_count": 14,
   "metadata": {},
   "outputs": [
    {
     "data": {
      "text/plain": [
       "b   -5\n",
       "c    7\n",
       "dtype: int64"
      ]
     },
     "execution_count": 14,
     "metadata": {},
     "output_type": "execute_result"
    }
   ],
   "source": [
    "# OR :Enter위에 있는 자판으로 쓸 수 있음. / ( ) 안 씌워주면 error 발생\n",
    "s[(s>5) | (s<-1)]"
   ]
  },
  {
   "cell_type": "code",
   "execution_count": 15,
   "metadata": {},
   "outputs": [
    {
     "data": {
      "text/plain": [
       "8    New Delhi\n",
       "Name: Capital, dtype: object"
      ]
     },
     "execution_count": 15,
     "metadata": {},
     "output_type": "execute_result"
    }
   ],
   "source": [
    "# Popluation이 1200000000 이상인 경우만 Slicing\n",
    "#df[df['Population'] > 1200000000]\n",
    "df[df['Population'] > 1200000000]['Capital'] \n",
    "# 인구가 12억 이상인 행에서 'Country'열의 값을 찾는 것임."
   ]
  },
  {
   "cell_type": "markdown",
   "metadata": {},
   "source": [
    "#### df.index와 df.columns"
   ]
  },
  {
   "cell_type": "code",
   "execution_count": 16,
   "metadata": {},
   "outputs": [
    {
     "data": {
      "text/html": [
       "<div>\n",
       "<style scoped>\n",
       "    .dataframe tbody tr th:only-of-type {\n",
       "        vertical-align: middle;\n",
       "    }\n",
       "\n",
       "    .dataframe tbody tr th {\n",
       "        vertical-align: top;\n",
       "    }\n",
       "\n",
       "    .dataframe thead th {\n",
       "        text-align: right;\n",
       "    }\n",
       "</style>\n",
       "<table border=\"1\" class=\"dataframe\">\n",
       "  <thead>\n",
       "    <tr style=\"text-align: right;\">\n",
       "      <th></th>\n",
       "      <th>Country</th>\n",
       "      <th>Population</th>\n",
       "    </tr>\n",
       "  </thead>\n",
       "  <tbody>\n",
       "    <tr>\n",
       "      <th>7</th>\n",
       "      <td>Belgium</td>\n",
       "      <td>11190846</td>\n",
       "    </tr>\n",
       "    <tr>\n",
       "      <th>8</th>\n",
       "      <td>India</td>\n",
       "      <td>1303171035</td>\n",
       "    </tr>\n",
       "    <tr>\n",
       "      <th>9</th>\n",
       "      <td>Brazil</td>\n",
       "      <td>207847528</td>\n",
       "    </tr>\n",
       "  </tbody>\n",
       "</table>\n",
       "</div>"
      ],
      "text/plain": [
       "   Country  Population\n",
       "7  Belgium    11190846\n",
       "8    India  1303171035\n",
       "9   Brazil   207847528"
      ]
     },
     "execution_count": 16,
     "metadata": {},
     "output_type": "execute_result"
    }
   ],
   "source": [
    "#df[df.index != 2] # index 2빼고 보여줌\n",
    "#df.columns # column명을 확인 할 수 있다.\n",
    "\n",
    "df.iloc[0:,df.columns != 'Capital'] # Capital 칼럼 빼고 다 보여주는거\n",
    "#df.loc[1:, df.columns != 'Capital'] / df.columns는 df.iloc df.loc에 다 쓸 수 있다."
   ]
  },
  {
   "cell_type": "markdown",
   "metadata": {},
   "source": [
    "#### 1.3. Adding a New Row & Column\n",
    "---\n",
    "#### Row추가하기 : ★ loc만 사용가능 ★"
   ]
  },
  {
   "cell_type": "code",
   "execution_count": 17,
   "metadata": {},
   "outputs": [
    {
     "data": {
      "text/html": [
       "<div>\n",
       "<style scoped>\n",
       "    .dataframe tbody tr th:only-of-type {\n",
       "        vertical-align: middle;\n",
       "    }\n",
       "\n",
       "    .dataframe tbody tr th {\n",
       "        vertical-align: top;\n",
       "    }\n",
       "\n",
       "    .dataframe thead th {\n",
       "        text-align: right;\n",
       "    }\n",
       "</style>\n",
       "<table border=\"1\" class=\"dataframe\">\n",
       "  <thead>\n",
       "    <tr style=\"text-align: right;\">\n",
       "      <th></th>\n",
       "      <th>Capital</th>\n",
       "      <th>Country</th>\n",
       "      <th>Population</th>\n",
       "    </tr>\n",
       "  </thead>\n",
       "  <tbody>\n",
       "    <tr>\n",
       "      <th>7</th>\n",
       "      <td>Brussels</td>\n",
       "      <td>Belgium</td>\n",
       "      <td>11190846</td>\n",
       "    </tr>\n",
       "    <tr>\n",
       "      <th>8</th>\n",
       "      <td>New Delhi</td>\n",
       "      <td>India</td>\n",
       "      <td>1303171035</td>\n",
       "    </tr>\n",
       "    <tr>\n",
       "      <th>9</th>\n",
       "      <td>Brasília</td>\n",
       "      <td>Brazil</td>\n",
       "      <td>207847528</td>\n",
       "    </tr>\n",
       "    <tr>\n",
       "      <th>Country 4</th>\n",
       "      <td>Korea</td>\n",
       "      <td>Seoul</td>\n",
       "      <td>50000000</td>\n",
       "    </tr>\n",
       "  </tbody>\n",
       "</table>\n",
       "</div>"
      ],
      "text/plain": [
       "             Capital  Country  Population\n",
       "7           Brussels  Belgium    11190846\n",
       "8          New Delhi    India  1303171035\n",
       "9           Brasília   Brazil   207847528\n",
       "Country 4      Korea    Seoul    50000000"
      ]
     },
     "execution_count": 17,
     "metadata": {},
     "output_type": "execute_result"
    }
   ],
   "source": [
    "# Adding new or update row : 'Country 4' - ['Korea', 'Seoul', 50000000]\n",
    "df.loc['Country 4'] = ['Korea', 'Seoul', 50000000]\n",
    "#df.loc['4'] 해도 dataframe에는 4로 추가된다.\n",
    "df\n",
    "\n",
    "#df.iloc[4]로는 추가 못한다. df.iloc은 row추가 용도보다는 row 검색용으로 쓰인다."
   ]
  },
  {
   "cell_type": "markdown",
   "metadata": {},
   "source": [
    "*Q. .iloc으로 새로운 행을 추가할 수 있는가? 그 이유는?*\n",
    "*iloc으로는 새로운 행을 추가할 수 없다*"
   ]
  },
  {
   "cell_type": "code",
   "execution_count": 18,
   "metadata": {},
   "outputs": [],
   "source": [
    "# Can't use iloc\n",
    "# df.iloc[4,1] <- 이거 입력하면 에러 남을 알 수 있다."
   ]
  },
  {
   "cell_type": "markdown",
   "metadata": {},
   "source": [
    "#### Column 추가하기 : .iloc()이나 .loc() 쓰지않고 df에서 바로 추가해준다."
   ]
  },
  {
   "cell_type": "code",
   "execution_count": 19,
   "metadata": {},
   "outputs": [
    {
     "data": {
      "text/html": [
       "<div>\n",
       "<style scoped>\n",
       "    .dataframe tbody tr th:only-of-type {\n",
       "        vertical-align: middle;\n",
       "    }\n",
       "\n",
       "    .dataframe tbody tr th {\n",
       "        vertical-align: top;\n",
       "    }\n",
       "\n",
       "    .dataframe thead th {\n",
       "        text-align: right;\n",
       "    }\n",
       "</style>\n",
       "<table border=\"1\" class=\"dataframe\">\n",
       "  <thead>\n",
       "    <tr style=\"text-align: right;\">\n",
       "      <th></th>\n",
       "      <th>Capital</th>\n",
       "      <th>Country</th>\n",
       "      <th>Population</th>\n",
       "      <th>Continent</th>\n",
       "    </tr>\n",
       "  </thead>\n",
       "  <tbody>\n",
       "    <tr>\n",
       "      <th>7</th>\n",
       "      <td>Brussels</td>\n",
       "      <td>Belgium</td>\n",
       "      <td>11190846</td>\n",
       "      <td>Europe</td>\n",
       "    </tr>\n",
       "    <tr>\n",
       "      <th>8</th>\n",
       "      <td>New Delhi</td>\n",
       "      <td>India</td>\n",
       "      <td>1303171035</td>\n",
       "      <td>Asia</td>\n",
       "    </tr>\n",
       "    <tr>\n",
       "      <th>9</th>\n",
       "      <td>Brasília</td>\n",
       "      <td>Brazil</td>\n",
       "      <td>207847528</td>\n",
       "      <td>America</td>\n",
       "    </tr>\n",
       "    <tr>\n",
       "      <th>Country 4</th>\n",
       "      <td>Korea</td>\n",
       "      <td>Seoul</td>\n",
       "      <td>50000000</td>\n",
       "      <td>Asia</td>\n",
       "    </tr>\n",
       "  </tbody>\n",
       "</table>\n",
       "</div>"
      ],
      "text/plain": [
       "             Capital  Country  Population Continent\n",
       "7           Brussels  Belgium    11190846    Europe\n",
       "8          New Delhi    India  1303171035      Asia\n",
       "9           Brasília   Brazil   207847528   America\n",
       "Country 4      Korea    Seoul    50000000      Asia"
      ]
     },
     "execution_count": 19,
     "metadata": {},
     "output_type": "execute_result"
    }
   ],
   "source": [
    "# adding new or update columns : 'Continent' - ['Europe', 'Asia', 'America']\n",
    "# column을 추가할땐 df.loc안쓰고 바로 df['칼럼명'] 이렇게 쓴다\n",
    "df['Continent'] = ['Europe', 'Asia', 'America', 'Asia']\n",
    "df"
   ]
  },
  {
   "cell_type": "markdown",
   "metadata": {},
   "source": [
    "#### 1.4. Inspection(DataFrame에 대한 정보 확인)\n",
    "---"
   ]
  },
  {
   "cell_type": "code",
   "execution_count": 20,
   "metadata": {},
   "outputs": [
    {
     "data": {
      "text/plain": [
       "(4, 4)"
      ]
     },
     "execution_count": 20,
     "metadata": {},
     "output_type": "execute_result"
    }
   ],
   "source": [
    "# DataFrame 크기 정보\n",
    "df.shape \n",
    "# 튜플 형식으로 (행갯수, 열갯수) 나옴 index0~4까지 있다는게 아니라 갯수임\n",
    "#df.shape[0] : df.shape에서 구한 tuple의 index 0을 의미\n",
    "#df.shape[1] : df.shape에서 구한 tuple의 index 1을 의미"
   ]
  },
  {
   "cell_type": "code",
   "execution_count": 21,
   "metadata": {},
   "outputs": [
    {
     "data": {
      "text/plain": [
       "Index([7, 8, 9, 'Country 4'], dtype='object')"
      ]
     },
     "execution_count": 21,
     "metadata": {},
     "output_type": "execute_result"
    }
   ],
   "source": [
    "# 행 정보\n",
    "df.index\n",
    "#list(df.index) # [0, 1, 2, 'Country 4'] 이렇게 표현됨\n",
    "#list(df.index) : list화 시킬 수 있다."
   ]
  },
  {
   "cell_type": "code",
   "execution_count": 22,
   "metadata": {},
   "outputs": [
    {
     "data": {
      "text/plain": [
       "Index(['Capital', 'Country', 'Population', 'Continent'], dtype='object')"
      ]
     },
     "execution_count": 22,
     "metadata": {},
     "output_type": "execute_result"
    }
   ],
   "source": [
    "# 열 정보\n",
    "df.columns\n",
    "#list(df.columns) #마찬가지로 list로 표현 가능 ['Capital', 'Country', 'Population', 'Continent']"
   ]
  },
  {
   "cell_type": "code",
   "execution_count": 23,
   "metadata": {},
   "outputs": [
    {
     "name": "stdout",
     "output_type": "stream",
     "text": [
      "<class 'pandas.core.frame.DataFrame'>\n",
      "Index: 4 entries, 7 to Country 4\n",
      "Data columns (total 4 columns):\n",
      "Capital       4 non-null object\n",
      "Country       4 non-null object\n",
      "Population    4 non-null int64\n",
      "Continent     4 non-null object\n",
      "dtypes: int64(1), object(3)\n",
      "memory usage: 160.0+ bytes\n"
     ]
    }
   ],
   "source": [
    "# 상세 정보 : 행 정보, 열 정보 및 데이터형, 메모리\n",
    "df.info()\n",
    "#null 갯수도 나와서 null 갯수 볼 수 있음."
   ]
  },
  {
   "cell_type": "markdown",
   "metadata": {},
   "source": [
    "#### 1.5 Arithmetic(행.열 갯수 / 행.열별 sum / 행.열 누적합 / 최대최소 등)\n",
    "---\n",
    "##### 모든 타입 공통 <font color=red>★axis=0(열)이 default / axis=1(행)★"
   ]
  },
  {
   "cell_type": "code",
   "execution_count": 24,
   "metadata": {},
   "outputs": [
    {
     "data": {
      "text/plain": [
       "Capital       4\n",
       "Country       4\n",
       "Population    4\n",
       "Continent     4\n",
       "dtype: int64"
      ]
     },
     "execution_count": 24,
     "metadata": {},
     "output_type": "execute_result"
    }
   ],
   "source": [
    "# 열/행별 데이터 개수(열별, 행별로 센다는 뜻이다)\n",
    "# 열별 갯수계산 df.count() \n",
    "# 행별 계산df.count(axis=1) / 열별 계산 df.count(axis=0) : axis(default=0)는 다른 함수에서도 쓰인다.\n",
    "df.count()"
   ]
  },
  {
   "cell_type": "code",
   "execution_count": 25,
   "metadata": {},
   "outputs": [
    {
     "data": {
      "text/plain": [
       "Capital       BrusselsNew DelhiBrasíliaKorea\n",
       "Country              BelgiumIndiaBrazilSeoul\n",
       "Population                        1572209409\n",
       "Continent              EuropeAsiaAmericaAsia\n",
       "dtype: object"
      ]
     },
     "execution_count": 25,
     "metadata": {},
     "output_type": "execute_result"
    }
   ],
   "source": [
    "# 열/행별 합\n",
    "df.sum()\n",
    "#df.sum(axis=1) 행별합은 int형식들만 더해준다."
   ]
  },
  {
   "cell_type": "code",
   "execution_count": 26,
   "metadata": {},
   "outputs": [
    {
     "data": {
      "text/html": [
       "<div>\n",
       "<style scoped>\n",
       "    .dataframe tbody tr th:only-of-type {\n",
       "        vertical-align: middle;\n",
       "    }\n",
       "\n",
       "    .dataframe tbody tr th {\n",
       "        vertical-align: top;\n",
       "    }\n",
       "\n",
       "    .dataframe thead th {\n",
       "        text-align: right;\n",
       "    }\n",
       "</style>\n",
       "<table border=\"1\" class=\"dataframe\">\n",
       "  <thead>\n",
       "    <tr style=\"text-align: right;\">\n",
       "      <th></th>\n",
       "      <th>Capital</th>\n",
       "      <th>Country</th>\n",
       "      <th>Population</th>\n",
       "      <th>Continent</th>\n",
       "    </tr>\n",
       "  </thead>\n",
       "  <tbody>\n",
       "    <tr>\n",
       "      <th>7</th>\n",
       "      <td>Brussels</td>\n",
       "      <td>Belgium</td>\n",
       "      <td>11190846</td>\n",
       "      <td>Europe</td>\n",
       "    </tr>\n",
       "    <tr>\n",
       "      <th>8</th>\n",
       "      <td>BrusselsNew Delhi</td>\n",
       "      <td>BelgiumIndia</td>\n",
       "      <td>1314361881</td>\n",
       "      <td>EuropeAsia</td>\n",
       "    </tr>\n",
       "    <tr>\n",
       "      <th>9</th>\n",
       "      <td>BrusselsNew DelhiBrasília</td>\n",
       "      <td>BelgiumIndiaBrazil</td>\n",
       "      <td>1522209409</td>\n",
       "      <td>EuropeAsiaAmerica</td>\n",
       "    </tr>\n",
       "    <tr>\n",
       "      <th>Country 4</th>\n",
       "      <td>BrusselsNew DelhiBrasíliaKorea</td>\n",
       "      <td>BelgiumIndiaBrazilSeoul</td>\n",
       "      <td>1572209409</td>\n",
       "      <td>EuropeAsiaAmericaAsia</td>\n",
       "    </tr>\n",
       "  </tbody>\n",
       "</table>\n",
       "</div>"
      ],
      "text/plain": [
       "                                  Capital                  Country  \\\n",
       "7                                Brussels                  Belgium   \n",
       "8                       BrusselsNew Delhi             BelgiumIndia   \n",
       "9               BrusselsNew DelhiBrasília       BelgiumIndiaBrazil   \n",
       "Country 4  BrusselsNew DelhiBrasíliaKorea  BelgiumIndiaBrazilSeoul   \n",
       "\n",
       "           Population              Continent  \n",
       "7            11190846                 Europe  \n",
       "8          1314361881             EuropeAsia  \n",
       "9          1522209409      EuropeAsiaAmerica  \n",
       "Country 4  1572209409  EuropeAsiaAmericaAsia  "
      ]
     },
     "execution_count": 26,
     "metadata": {},
     "output_type": "execute_result"
    }
   ],
   "source": [
    "# 열/행별 누적합(index2에는 index 0,1,2값들이 합친게 나옴) : 누적되는 추이를 볼 수 있다.\n",
    "df.cumsum()"
   ]
  },
  {
   "cell_type": "code",
   "execution_count": 27,
   "metadata": {},
   "outputs": [
    {
     "data": {
      "text/plain": [
       "Capital       Brasília\n",
       "Country        Belgium\n",
       "Population    11190846\n",
       "Continent      America\n",
       "dtype: object"
      ]
     },
     "execution_count": 27,
     "metadata": {},
     "output_type": "execute_result"
    }
   ],
   "source": [
    "# 열별 최소\n",
    "df.min()"
   ]
  },
  {
   "cell_type": "code",
   "execution_count": 28,
   "metadata": {},
   "outputs": [
    {
     "data": {
      "text/plain": [
       "7              11190846\n",
       "8            1303171035\n",
       "9             207847528\n",
       "Country 4      50000000\n",
       "dtype: int64"
      ]
     },
     "execution_count": 28,
     "metadata": {},
     "output_type": "execute_result"
    }
   ],
   "source": [
    "# 행별 최소 : 여기 data에서 행별로보면 string들이 섞여있고 숫자는 1개만 있어서 의미없음.\n",
    "df.min(axis=1)"
   ]
  },
  {
   "cell_type": "code",
   "execution_count": 29,
   "metadata": {},
   "outputs": [
    {
     "data": {
      "text/plain": [
       "7              11190846\n",
       "8            1303171035\n",
       "9             207847528\n",
       "Country 4      50000000\n",
       "dtype: int64"
      ]
     },
     "execution_count": 29,
     "metadata": {},
     "output_type": "execute_result"
    }
   ],
   "source": [
    "# 행별 최대\n",
    "df.max(axis=1)"
   ]
  },
  {
   "cell_type": "code",
   "execution_count": 30,
   "metadata": {},
   "outputs": [
    {
     "data": {
      "text/plain": [
       "Capital        New Delhi\n",
       "Country            Seoul\n",
       "Population    1303171035\n",
       "Continent         Europe\n",
       "dtype: object"
      ]
     },
     "execution_count": 30,
     "metadata": {},
     "output_type": "execute_result"
    }
   ],
   "source": [
    "# 열별 최대\n",
    "df.max(axis=0)"
   ]
  },
  {
   "cell_type": "markdown",
   "metadata": {},
   "source": [
    "##### 수치형 데이터"
   ]
  },
  {
   "cell_type": "code",
   "execution_count": 31,
   "metadata": {},
   "outputs": [
    {
     "data": {
      "text/plain": [
       "11190846"
      ]
     },
     "execution_count": 31,
     "metadata": {},
     "output_type": "execute_result"
    }
   ],
   "source": [
    "# Population 최소 / 최대 : string부분 빼고 수치있것만 뽑아서 계산해야함\n",
    "#최소\n",
    "df['Population'].min()\n",
    "#최대\n",
    "#df['Population'].max()"
   ]
  },
  {
   "cell_type": "code",
   "execution_count": 32,
   "metadata": {},
   "outputs": [
    {
     "data": {
      "text/plain": [
       "8"
      ]
     },
     "execution_count": 32,
     "metadata": {},
     "output_type": "execute_result"
    }
   ],
   "source": [
    "# Population의 값이최소인 index : 마찬가지로 수치형에만 가능\n",
    "df['Population'].idxmin()\n",
    "#df['Population'].argmin()이라고도 쓸 수 있다.\n",
    "\n",
    "# Population의 값이 최대인 index\n",
    "df['Population'].idxmax()"
   ]
  },
  {
   "cell_type": "code",
   "execution_count": 33,
   "metadata": {},
   "outputs": [
    {
     "name": "stdout",
     "output_type": "stream",
     "text": [
      "\n",
      "          Population\n",
      "count  4.000000e+00\n",
      "mean   3.930524e+08\n",
      "std    6.126772e+08\n",
      "min    1.119085e+07\n",
      "25%    4.029771e+07\n",
      "50%    1.289238e+08\n",
      "75%    4.816784e+08\n",
      "max    1.303171e+09\n",
      "<class 'pandas.core.frame.DataFrame'>\n",
      "Index: 4 entries, 7 to Country 4\n",
      "Data columns (total 4 columns):\n",
      "Capital       4 non-null object\n",
      "Country       4 non-null object\n",
      "Population    4 non-null int64\n",
      "Continent     4 non-null object\n",
      "dtypes: int64(1), object(3)\n",
      "memory usage: 320.0+ bytes\n",
      "\n",
      " None\n"
     ]
    }
   ],
   "source": [
    "# 열별 기본 수치 정보(describe()) : 중간값, 평균, 4분위수 : 알아서 수치형 찾음\n",
    "print('\\n',df.describe())\n",
    "print('\\n', df.info())"
   ]
  },
  {
   "cell_type": "code",
   "execution_count": 34,
   "metadata": {},
   "outputs": [
    {
     "data": {
      "text/plain": [
       "Population    3.930524e+08\n",
       "dtype: float64"
      ]
     },
     "execution_count": 34,
     "metadata": {},
     "output_type": "execute_result"
    }
   ],
   "source": [
    "# 열별 평균 : 알아서 수치형 찾아서 수치형 자료만 해줌\n",
    "# 여기선 Population이 수치형이니깐 Population에 대한 mean이 계산됨\n",
    "df.mean()"
   ]
  },
  {
   "cell_type": "markdown",
   "metadata": {},
   "source": [
    "#### 1.6 Map & Apply Function\n",
    "---\n",
    "##### Series : .map"
   ]
  },
  {
   "cell_type": "code",
   "execution_count": 35,
   "metadata": {},
   "outputs": [
    {
     "name": "stdout",
     "output_type": "stream",
     "text": [
      "3\n",
      "-5\n",
      "7\n",
      "4\n"
     ]
    },
    {
     "data": {
      "text/plain": [
       "a    None\n",
       "b    None\n",
       "c    None\n",
       "d    None\n",
       "dtype: object"
      ]
     },
     "execution_count": 35,
     "metadata": {},
     "output_type": "execute_result"
    }
   ],
   "source": [
    "s.map(print)\n",
    "# None이 나오는건 print의 return값이 none이라서(return값은 원래 없음)\n",
    "# 3, -5, 7, 4만 나오는게 아니라 index인 a b c d에 대해서 None이라고도 나옴."
   ]
  },
  {
   "cell_type": "code",
   "execution_count": 36,
   "metadata": {},
   "outputs": [
    {
     "data": {
      "text/plain": [
       "a     9\n",
       "b    25\n",
       "c    49\n",
       "d    16\n",
       "dtype: int64"
      ]
     },
     "execution_count": 36,
     "metadata": {},
     "output_type": "execute_result"
    }
   ],
   "source": [
    "# square function 정의 후, series에 적용해보자\n",
    "square_f = lambda x : x*x\n",
    "s.map(square_f)"
   ]
  },
  {
   "cell_type": "markdown",
   "metadata": {},
   "source": [
    "### DataFrama : .apply, .applymap"
   ]
  },
  {
   "cell_type": "code",
   "execution_count": 37,
   "metadata": {},
   "outputs": [],
   "source": [
    "num_data = {\n",
    "   'a' : [1, 2, 3],\n",
    "   'b' : [4, 5, 6],\n",
    "   'c' : [7, 8, 9]\n",
    "}\n",
    "# a, b, c는 column명으로 들어간다."
   ]
  },
  {
   "cell_type": "code",
   "execution_count": 38,
   "metadata": {},
   "outputs": [
    {
     "data": {
      "text/html": [
       "<div>\n",
       "<style scoped>\n",
       "    .dataframe tbody tr th:only-of-type {\n",
       "        vertical-align: middle;\n",
       "    }\n",
       "\n",
       "    .dataframe tbody tr th {\n",
       "        vertical-align: top;\n",
       "    }\n",
       "\n",
       "    .dataframe thead th {\n",
       "        text-align: right;\n",
       "    }\n",
       "</style>\n",
       "<table border=\"1\" class=\"dataframe\">\n",
       "  <thead>\n",
       "    <tr style=\"text-align: right;\">\n",
       "      <th></th>\n",
       "      <th>a</th>\n",
       "      <th>b</th>\n",
       "      <th>c</th>\n",
       "    </tr>\n",
       "  </thead>\n",
       "  <tbody>\n",
       "    <tr>\n",
       "      <th>1</th>\n",
       "      <td>1</td>\n",
       "      <td>4</td>\n",
       "      <td>7</td>\n",
       "    </tr>\n",
       "    <tr>\n",
       "      <th>2</th>\n",
       "      <td>2</td>\n",
       "      <td>5</td>\n",
       "      <td>8</td>\n",
       "    </tr>\n",
       "    <tr>\n",
       "      <th>3</th>\n",
       "      <td>3</td>\n",
       "      <td>6</td>\n",
       "      <td>9</td>\n",
       "    </tr>\n",
       "  </tbody>\n",
       "</table>\n",
       "</div>"
      ],
      "text/plain": [
       "   a  b  c\n",
       "1  1  4  7\n",
       "2  2  5  8\n",
       "3  3  6  9"
      ]
     },
     "execution_count": 38,
     "metadata": {},
     "output_type": "execute_result"
    }
   ],
   "source": [
    "num_df = pd.DataFrame(num_data, index=[1,2,3])\n",
    "num_df"
   ]
  },
  {
   "cell_type": "code",
   "execution_count": 39,
   "metadata": {},
   "outputs": [
    {
     "name": "stdout",
     "output_type": "stream",
     "text": [
      "1\n",
      "2\n",
      "3\n",
      "1\n",
      "2\n",
      "3\n",
      "4\n",
      "5\n",
      "6\n",
      "7\n",
      "8\n",
      "9\n"
     ]
    },
    {
     "data": {
      "text/html": [
       "<div>\n",
       "<style scoped>\n",
       "    .dataframe tbody tr th:only-of-type {\n",
       "        vertical-align: middle;\n",
       "    }\n",
       "\n",
       "    .dataframe tbody tr th {\n",
       "        vertical-align: top;\n",
       "    }\n",
       "\n",
       "    .dataframe thead th {\n",
       "        text-align: right;\n",
       "    }\n",
       "</style>\n",
       "<table border=\"1\" class=\"dataframe\">\n",
       "  <thead>\n",
       "    <tr style=\"text-align: right;\">\n",
       "      <th></th>\n",
       "      <th>a</th>\n",
       "      <th>b</th>\n",
       "      <th>c</th>\n",
       "    </tr>\n",
       "  </thead>\n",
       "  <tbody>\n",
       "    <tr>\n",
       "      <th>1</th>\n",
       "      <td>None</td>\n",
       "      <td>None</td>\n",
       "      <td>None</td>\n",
       "    </tr>\n",
       "    <tr>\n",
       "      <th>2</th>\n",
       "      <td>None</td>\n",
       "      <td>None</td>\n",
       "      <td>None</td>\n",
       "    </tr>\n",
       "    <tr>\n",
       "      <th>3</th>\n",
       "      <td>None</td>\n",
       "      <td>None</td>\n",
       "      <td>None</td>\n",
       "    </tr>\n",
       "  </tbody>\n",
       "</table>\n",
       "</div>"
      ],
      "text/plain": [
       "      a     b     c\n",
       "1  None  None  None\n",
       "2  None  None  None\n",
       "3  None  None  None"
      ]
     },
     "execution_count": 39,
     "metadata": {},
     "output_type": "execute_result"
    }
   ],
   "source": [
    "# 셀 단위로 적용\n",
    "num_df.applymap(print) #123 123이 2번 나오는 이상한 현상: 조교도 잘 모름.\n",
    "#num_df.applymap(sum) \n",
    "#에러발생 값이 1개일때 sum 이 안됨 sum(1)은 에러임"
   ]
  },
  {
   "cell_type": "code",
   "execution_count": 40,
   "metadata": {},
   "outputs": [
    {
     "name": "stdout",
     "output_type": "stream",
     "text": [
      "1    1\n",
      "2    2\n",
      "3    3\n",
      "Name: a, dtype: int64\n",
      "1    4\n",
      "2    5\n",
      "3    6\n",
      "Name: b, dtype: int64\n",
      "1    7\n",
      "2    8\n",
      "3    9\n",
      "Name: c, dtype: int64\n"
     ]
    },
    {
     "data": {
      "text/plain": [
       "a    None\n",
       "b    None\n",
       "c    None\n",
       "dtype: object"
      ]
     },
     "execution_count": 40,
     "metadata": {},
     "output_type": "execute_result"
    }
   ],
   "source": [
    "# 열/행 단위로 적용\n",
    "\n",
    "# 열단위로 print해줌\n",
    "num_df.apply(print)\n",
    "#행단위 합을 구하는 방법\n",
    "#num_df.apply(sum, axis=1)\n"
   ]
  },
  {
   "cell_type": "markdown",
   "metadata": {},
   "source": [
    "## <font color = red> 1-7. Sort\n",
    "---\n",
    "특정 컬럼을 기준으로 정렬 가능"
   ]
  },
  {
   "cell_type": "code",
   "execution_count": 41,
   "metadata": {},
   "outputs": [
    {
     "data": {
      "text/html": [
       "<div>\n",
       "<style scoped>\n",
       "    .dataframe tbody tr th:only-of-type {\n",
       "        vertical-align: middle;\n",
       "    }\n",
       "\n",
       "    .dataframe tbody tr th {\n",
       "        vertical-align: top;\n",
       "    }\n",
       "\n",
       "    .dataframe thead th {\n",
       "        text-align: right;\n",
       "    }\n",
       "</style>\n",
       "<table border=\"1\" class=\"dataframe\">\n",
       "  <thead>\n",
       "    <tr style=\"text-align: right;\">\n",
       "      <th></th>\n",
       "      <th>Capital</th>\n",
       "      <th>Country</th>\n",
       "      <th>Population</th>\n",
       "      <th>Continent</th>\n",
       "    </tr>\n",
       "  </thead>\n",
       "  <tbody>\n",
       "    <tr>\n",
       "      <th>8</th>\n",
       "      <td>New Delhi</td>\n",
       "      <td>India</td>\n",
       "      <td>1303171035</td>\n",
       "      <td>Asia</td>\n",
       "    </tr>\n",
       "    <tr>\n",
       "      <th>9</th>\n",
       "      <td>Brasília</td>\n",
       "      <td>Brazil</td>\n",
       "      <td>207847528</td>\n",
       "      <td>America</td>\n",
       "    </tr>\n",
       "    <tr>\n",
       "      <th>Country 4</th>\n",
       "      <td>Korea</td>\n",
       "      <td>Seoul</td>\n",
       "      <td>50000000</td>\n",
       "      <td>Asia</td>\n",
       "    </tr>\n",
       "    <tr>\n",
       "      <th>7</th>\n",
       "      <td>Brussels</td>\n",
       "      <td>Belgium</td>\n",
       "      <td>11190846</td>\n",
       "      <td>Europe</td>\n",
       "    </tr>\n",
       "  </tbody>\n",
       "</table>\n",
       "</div>"
      ],
      "text/plain": [
       "             Capital  Country  Population Continent\n",
       "8          New Delhi    India  1303171035      Asia\n",
       "9           Brasília   Brazil   207847528   America\n",
       "Country 4      Korea    Seoul    50000000      Asia\n",
       "7           Brussels  Belgium    11190846    Europe"
      ]
     },
     "execution_count": 41,
     "metadata": {},
     "output_type": "execute_result"
    }
   ],
   "source": [
    "# Popluation을 기준으로 내림차순 정렬(df.sort_values('칼럼명'. ascending=False))\n",
    "df.sort_values('Population', ascending = False) #Population 기준으로 정렬할 거라는 얘기 / default = ascending True임"
   ]
  },
  {
   "cell_type": "markdown",
   "metadata": {},
   "source": [
    "### 2. Preprocessing\n",
    "---\n",
    "- 2-1. Data from .csv, .sql to DataFrame \n",
    "- 2-2. Merge/Join two DataFrame : .merge()\n",
    "- 2-3. Fill or Abandon NaN values\n",
    "- 2-4. Save & Load as DataFrame : pickle\n",
    "- 2-5. Data Summary : .groupby()"
   ]
  },
  {
   "cell_type": "markdown",
   "metadata": {},
   "source": [
    "##### 사용 데이터 : 2016 US Election (Kaggle) - 2016년 미 대선 정당별 대선 후보 경선 결과\n",
    "- primary_results : 24611 x 8 (공화당, 민주당 대통령 후보 경선 결과)\n",
    "- county_facts : 3195 x 54 (state, couty별 인구, 주거, 기업, 유통 등 특성 정보)\n",
    "- county_facts_dictionary : county_facts의 column에 대한 설명 (50개)"
   ]
  },
  {
   "cell_type": "markdown",
   "metadata": {},
   "source": [
    "#### 2-1. Data from .csv, .sql to DataFrame\n",
    "---\n",
    "##### pd.read_sql & sqlite3"
   ]
  },
  {
   "cell_type": "code",
   "execution_count": 42,
   "metadata": {},
   "outputs": [],
   "source": [
    "# import package\n",
    "import sqlite3\n",
    "#sqlite3 프로그램 안 깔려있어도 파일 읽어 올 수 있다.\n",
    "#import sqlarlchemy"
   ]
  },
  {
   "cell_type": "code",
   "execution_count": 43,
   "metadata": {},
   "outputs": [],
   "source": [
    "# connect sqlite3 - database.sqlite\n",
    "connect = sqlite3.connect('database.sqlite')"
   ]
  },
  {
   "cell_type": "code",
   "execution_count": 44,
   "metadata": {},
   "outputs": [
    {
     "ename": "DatabaseError",
     "evalue": "Execution failed on sql 'SELECT * FROM county_facts': no such table: county_facts",
     "output_type": "error",
     "traceback": [
      "\u001b[1;31m---------------------------------------------------------------------------\u001b[0m",
      "\u001b[1;31mOperationalError\u001b[0m                          Traceback (most recent call last)",
      "\u001b[1;32m~\\Anaconda3\\lib\\site-packages\\pandas\\io\\sql.py\u001b[0m in \u001b[0;36mexecute\u001b[1;34m(self, *args, **kwargs)\u001b[0m\n\u001b[0;32m   1408\u001b[0m             \u001b[1;32melse\u001b[0m\u001b[1;33m:\u001b[0m\u001b[1;33m\u001b[0m\u001b[0m\n\u001b[1;32m-> 1409\u001b[1;33m                 \u001b[0mcur\u001b[0m\u001b[1;33m.\u001b[0m\u001b[0mexecute\u001b[0m\u001b[1;33m(\u001b[0m\u001b[1;33m*\u001b[0m\u001b[0margs\u001b[0m\u001b[1;33m)\u001b[0m\u001b[1;33m\u001b[0m\u001b[0m\n\u001b[0m\u001b[0;32m   1410\u001b[0m             \u001b[1;32mreturn\u001b[0m \u001b[0mcur\u001b[0m\u001b[1;33m\u001b[0m\u001b[0m\n",
      "\u001b[1;31mOperationalError\u001b[0m: no such table: county_facts",
      "\nDuring handling of the above exception, another exception occurred:\n",
      "\u001b[1;31mDatabaseError\u001b[0m                             Traceback (most recent call last)",
      "\u001b[1;32m<ipython-input-44-c99fe5d6ebc2>\u001b[0m in \u001b[0;36m<module>\u001b[1;34m()\u001b[0m\n\u001b[0;32m      1\u001b[0m \u001b[1;31m# pd.read_sql(query, con)\u001b[0m\u001b[1;33m\u001b[0m\u001b[1;33m\u001b[0m\u001b[0m\n\u001b[0;32m      2\u001b[0m \u001b[1;31m#pd.read_sql('SELECT * FROM primary_results', connect)\u001b[0m\u001b[1;33m\u001b[0m\u001b[1;33m\u001b[0m\u001b[0m\n\u001b[1;32m----> 3\u001b[1;33m \u001b[0mpd\u001b[0m\u001b[1;33m.\u001b[0m\u001b[0mread_sql\u001b[0m\u001b[1;33m(\u001b[0m\u001b[1;34m'SELECT * FROM county_facts'\u001b[0m\u001b[1;33m,\u001b[0m \u001b[0mconnect\u001b[0m\u001b[1;33m)\u001b[0m\u001b[1;33m\u001b[0m\u001b[0m\n\u001b[0m\u001b[0;32m      4\u001b[0m \u001b[1;31m#sqllite3와 연결(connect)을 활용해서 Query문을 read한다\u001b[0m\u001b[1;33m\u001b[0m\u001b[1;33m\u001b[0m\u001b[0m\n",
      "\u001b[1;32m~\\Anaconda3\\lib\\site-packages\\pandas\\io\\sql.py\u001b[0m in \u001b[0;36mread_sql\u001b[1;34m(sql, con, index_col, coerce_float, params, parse_dates, columns, chunksize)\u001b[0m\n\u001b[0;32m    398\u001b[0m             \u001b[0msql\u001b[0m\u001b[1;33m,\u001b[0m \u001b[0mindex_col\u001b[0m\u001b[1;33m=\u001b[0m\u001b[0mindex_col\u001b[0m\u001b[1;33m,\u001b[0m \u001b[0mparams\u001b[0m\u001b[1;33m=\u001b[0m\u001b[0mparams\u001b[0m\u001b[1;33m,\u001b[0m\u001b[1;33m\u001b[0m\u001b[0m\n\u001b[0;32m    399\u001b[0m             \u001b[0mcoerce_float\u001b[0m\u001b[1;33m=\u001b[0m\u001b[0mcoerce_float\u001b[0m\u001b[1;33m,\u001b[0m \u001b[0mparse_dates\u001b[0m\u001b[1;33m=\u001b[0m\u001b[0mparse_dates\u001b[0m\u001b[1;33m,\u001b[0m\u001b[1;33m\u001b[0m\u001b[0m\n\u001b[1;32m--> 400\u001b[1;33m             chunksize=chunksize)\n\u001b[0m\u001b[0;32m    401\u001b[0m \u001b[1;33m\u001b[0m\u001b[0m\n\u001b[0;32m    402\u001b[0m     \u001b[1;32mtry\u001b[0m\u001b[1;33m:\u001b[0m\u001b[1;33m\u001b[0m\u001b[0m\n",
      "\u001b[1;32m~\\Anaconda3\\lib\\site-packages\\pandas\\io\\sql.py\u001b[0m in \u001b[0;36mread_query\u001b[1;34m(self, sql, index_col, coerce_float, params, parse_dates, chunksize)\u001b[0m\n\u001b[0;32m   1442\u001b[0m \u001b[1;33m\u001b[0m\u001b[0m\n\u001b[0;32m   1443\u001b[0m         \u001b[0margs\u001b[0m \u001b[1;33m=\u001b[0m \u001b[0m_convert_params\u001b[0m\u001b[1;33m(\u001b[0m\u001b[0msql\u001b[0m\u001b[1;33m,\u001b[0m \u001b[0mparams\u001b[0m\u001b[1;33m)\u001b[0m\u001b[1;33m\u001b[0m\u001b[0m\n\u001b[1;32m-> 1444\u001b[1;33m         \u001b[0mcursor\u001b[0m \u001b[1;33m=\u001b[0m \u001b[0mself\u001b[0m\u001b[1;33m.\u001b[0m\u001b[0mexecute\u001b[0m\u001b[1;33m(\u001b[0m\u001b[1;33m*\u001b[0m\u001b[0margs\u001b[0m\u001b[1;33m)\u001b[0m\u001b[1;33m\u001b[0m\u001b[0m\n\u001b[0m\u001b[0;32m   1445\u001b[0m         \u001b[0mcolumns\u001b[0m \u001b[1;33m=\u001b[0m \u001b[1;33m[\u001b[0m\u001b[0mcol_desc\u001b[0m\u001b[1;33m[\u001b[0m\u001b[1;36m0\u001b[0m\u001b[1;33m]\u001b[0m \u001b[1;32mfor\u001b[0m \u001b[0mcol_desc\u001b[0m \u001b[1;32min\u001b[0m \u001b[0mcursor\u001b[0m\u001b[1;33m.\u001b[0m\u001b[0mdescription\u001b[0m\u001b[1;33m]\u001b[0m\u001b[1;33m\u001b[0m\u001b[0m\n\u001b[0;32m   1446\u001b[0m \u001b[1;33m\u001b[0m\u001b[0m\n",
      "\u001b[1;32m~\\Anaconda3\\lib\\site-packages\\pandas\\io\\sql.py\u001b[0m in \u001b[0;36mexecute\u001b[1;34m(self, *args, **kwargs)\u001b[0m\n\u001b[0;32m   1419\u001b[0m             ex = DatabaseError(\n\u001b[0;32m   1420\u001b[0m                 \"Execution failed on sql '%s': %s\" % (args[0], exc))\n\u001b[1;32m-> 1421\u001b[1;33m             \u001b[0mraise_with_traceback\u001b[0m\u001b[1;33m(\u001b[0m\u001b[0mex\u001b[0m\u001b[1;33m)\u001b[0m\u001b[1;33m\u001b[0m\u001b[0m\n\u001b[0m\u001b[0;32m   1422\u001b[0m \u001b[1;33m\u001b[0m\u001b[0m\n\u001b[0;32m   1423\u001b[0m     \u001b[1;33m@\u001b[0m\u001b[0mstaticmethod\u001b[0m\u001b[1;33m\u001b[0m\u001b[0m\n",
      "\u001b[1;32m~\\Anaconda3\\lib\\site-packages\\pandas\\compat\\__init__.py\u001b[0m in \u001b[0;36mraise_with_traceback\u001b[1;34m(exc, traceback)\u001b[0m\n\u001b[0;32m    383\u001b[0m         \u001b[1;32mif\u001b[0m \u001b[0mtraceback\u001b[0m \u001b[1;33m==\u001b[0m \u001b[0mEllipsis\u001b[0m\u001b[1;33m:\u001b[0m\u001b[1;33m\u001b[0m\u001b[0m\n\u001b[0;32m    384\u001b[0m             \u001b[0m_\u001b[0m\u001b[1;33m,\u001b[0m \u001b[0m_\u001b[0m\u001b[1;33m,\u001b[0m \u001b[0mtraceback\u001b[0m \u001b[1;33m=\u001b[0m \u001b[0msys\u001b[0m\u001b[1;33m.\u001b[0m\u001b[0mexc_info\u001b[0m\u001b[1;33m(\u001b[0m\u001b[1;33m)\u001b[0m\u001b[1;33m\u001b[0m\u001b[0m\n\u001b[1;32m--> 385\u001b[1;33m         \u001b[1;32mraise\u001b[0m \u001b[0mexc\u001b[0m\u001b[1;33m.\u001b[0m\u001b[0mwith_traceback\u001b[0m\u001b[1;33m(\u001b[0m\u001b[0mtraceback\u001b[0m\u001b[1;33m)\u001b[0m\u001b[1;33m\u001b[0m\u001b[0m\n\u001b[0m\u001b[0;32m    386\u001b[0m \u001b[1;32melse\u001b[0m\u001b[1;33m:\u001b[0m\u001b[1;33m\u001b[0m\u001b[0m\n\u001b[0;32m    387\u001b[0m     \u001b[1;31m# this version of raise is a syntax error in Python 3\u001b[0m\u001b[1;33m\u001b[0m\u001b[1;33m\u001b[0m\u001b[0m\n",
      "\u001b[1;32m~\\Anaconda3\\lib\\site-packages\\pandas\\io\\sql.py\u001b[0m in \u001b[0;36mexecute\u001b[1;34m(self, *args, **kwargs)\u001b[0m\n\u001b[0;32m   1407\u001b[0m                 \u001b[0mcur\u001b[0m\u001b[1;33m.\u001b[0m\u001b[0mexecute\u001b[0m\u001b[1;33m(\u001b[0m\u001b[1;33m*\u001b[0m\u001b[0margs\u001b[0m\u001b[1;33m,\u001b[0m \u001b[1;33m**\u001b[0m\u001b[0mkwargs\u001b[0m\u001b[1;33m)\u001b[0m\u001b[1;33m\u001b[0m\u001b[0m\n\u001b[0;32m   1408\u001b[0m             \u001b[1;32melse\u001b[0m\u001b[1;33m:\u001b[0m\u001b[1;33m\u001b[0m\u001b[0m\n\u001b[1;32m-> 1409\u001b[1;33m                 \u001b[0mcur\u001b[0m\u001b[1;33m.\u001b[0m\u001b[0mexecute\u001b[0m\u001b[1;33m(\u001b[0m\u001b[1;33m*\u001b[0m\u001b[0margs\u001b[0m\u001b[1;33m)\u001b[0m\u001b[1;33m\u001b[0m\u001b[0m\n\u001b[0m\u001b[0;32m   1410\u001b[0m             \u001b[1;32mreturn\u001b[0m \u001b[0mcur\u001b[0m\u001b[1;33m\u001b[0m\u001b[0m\n\u001b[0;32m   1411\u001b[0m         \u001b[1;32mexcept\u001b[0m \u001b[0mException\u001b[0m \u001b[1;32mas\u001b[0m \u001b[0mexc\u001b[0m\u001b[1;33m:\u001b[0m\u001b[1;33m\u001b[0m\u001b[0m\n",
      "\u001b[1;31mDatabaseError\u001b[0m: Execution failed on sql 'SELECT * FROM county_facts': no such table: county_facts"
     ]
    }
   ],
   "source": [
    "# pd.read_sql(query, con)\n",
    "#pd.read_sql('SELECT * FROM primary_results', connect)\n",
    "pd.read_sql('SELECT * FROM county_facts', connect)\n",
    "#sqllite3와 연결(connect)을 활용해서 Query문을 read한다"
   ]
  },
  {
   "cell_type": "markdown",
   "metadata": {},
   "source": [
    "### <font color = red>pd.read_csv 연습\n",
    "#### 1) county_facts.csv에서 county_facts_df를 만들어보자\n",
    "#### 2) county_facts_df에서 state_df와 county_df를 만들어보자(fips변수가 Hint)\n",
    "#### 3) primary_results.csv에서 primary_df를 만들어보자\n",
    "##### county_df(state, county 별 특성정보)  / primary_df(공화당 민주당 경선결과)"
   ]
  },
  {
   "cell_type": "code",
   "execution_count": null,
   "metadata": {},
   "outputs": [],
   "source": [
    "# county_facts_df\n",
    "county_facts_df = pd.read_csv('county_facts.csv')\n",
    "county_facts_df"
   ]
  },
  {
   "cell_type": "markdown",
   "metadata": {},
   "source": [
    "*Q. `county_facts.csv`를 부른 DataFrame을 State와 County로 분리하여 각각 state_df, county_df로 나누어라*\n",
    "<br>\n",
    "- Hint : fips는 지역번호를 나타내며, 0은 미국 전체, 천의 자리 이상은 주를 나타낸다"
   ]
  },
  {
   "cell_type": "code",
   "execution_count": null,
   "metadata": {},
   "outputs": [],
   "source": [
    "# state_df\n",
    "state_df = county_facts_df[county_facts_df['fips'] % 1000 == 0 ]\n",
    "state_df\n",
    "# county_df\n",
    "county_df = county_facts_df[county_facts_df['fips'] % 1000 != 0 ]\n",
    "county_df"
   ]
  },
  {
   "cell_type": "code",
   "execution_count": null,
   "metadata": {},
   "outputs": [],
   "source": [
    "# primary_df\n",
    "primary_df = pd.read_csv('primary_results.csv')\n",
    "primary_df"
   ]
  },
  {
   "cell_type": "markdown",
   "metadata": {},
   "source": [
    "#### 2-2. Merge/Join two DataFrames : .merge()\n",
    "---\n",
    "* 어떤 df를 기준으로 통합할 것인가?\n",
    "* 통합할 때 key가 되는 열은 무엇인가?\n",
    "* 어떻게 통합할 것인가?"
   ]
  },
  {
   "cell_type": "markdown",
   "metadata": {},
   "source": [
    "#### county_df 와 primary_df를 join해보자(merge함수 이용)\n",
    "##### county_df(state, county 별 특성정보)  / primary_df(공화당 민주당 경선결과)"
   ]
  },
  {
   "cell_type": "code",
   "execution_count": null,
   "metadata": {},
   "outputs": [],
   "source": [
    "primary_county_facts_inner_df = primary_df.merge(county_df, left_on='fips', right_on='fips', how='inner') \n",
    "#left_on은 primary_df에서 가져오는 변수, right_on은 county_df에서 가져오는 변수\n",
    "#NAN이 float라 float인게 있음\n",
    "primary_county_facts_outer_df = primary_df.merge(county_df, left_on='fips', right_on='fips', how='outer') \n",
    "#full outer join이라고 생각하면 된다???\n",
    "#경선결과가 없는 곳 까지 살아있음.(애초에 집계안했음)\n",
    "primary_county_facts_inner_df"
   ]
  },
  {
   "cell_type": "markdown",
   "metadata": {},
   "source": [
    "*Q. inner? outer?*"
   ]
  },
  {
   "cell_type": "markdown",
   "metadata": {},
   "source": [
    "### <font color = red> Null처리하기 : isnull()을 통해서 null이 있는지 볼 수 있다.\n",
    "#### 2-3. Fill or Abandon Nan(isnull()을 활용해서 Nan을 확인해보자)\n",
    "---"
   ]
  },
  {
   "cell_type": "code",
   "execution_count": null,
   "metadata": {},
   "outputs": [],
   "source": [
    "# check NaN in data\n",
    "primary_county_facts_inner_df.isnull().sum().sum() \n",
    "#sum에 axis값이 없으니 열별로 Nan이 있는지 없는지 이 방법을 통해서 알 수 있다."
   ]
  },
  {
   "cell_type": "markdown",
   "metadata": {},
   "source": [
    "*Q. 2-2의 inner join한 DataFrame으로 공화당과 민주당의 결과로 분리하여 각각 rep_df, dem_df로 나누어라*"
   ]
  },
  {
   "cell_type": "code",
   "execution_count": null,
   "metadata": {},
   "outputs": [],
   "source": [
    "# rep_df\n",
    "rep_df = primary_county_facts_inner_df[primary_county_facts_inner_df['party'] == 'Republican']\n",
    "rep_df\n",
    "# dem_df\n",
    "dem_df = primary_county_facts_inner_df[primary_county_facts_inner_df['party'] == 'Democrat']\n",
    "dem_df"
   ]
  },
  {
   "cell_type": "markdown",
   "metadata": {},
   "source": [
    "#### 2-4. Save & Load DataFrame : pickle\n",
    "#### 가공한 DataFrame을 저장하고 읽어올 수 있음\n",
    "---"
   ]
  },
  {
   "cell_type": "code",
   "execution_count": null,
   "metadata": {},
   "outputs": [],
   "source": [
    "# import package\n",
    "import pickle"
   ]
  },
  {
   "cell_type": "code",
   "execution_count": null,
   "metadata": {},
   "outputs": [],
   "source": [
    "# save as DataFrame\n",
    "#with open('저장할파일명', 'wb') as f\n",
    "with open('primary_results.df', 'wb') as f: #wb:write할건데 byte단위로 write할거야\n",
    "    pickle.dump(primary_county_facts_inner_df, f) #dump: data를 집어넣다\n",
    "    # pickle.dumps(primary_county_facts_inner_df, f)"
   ]
  },
  {
   "cell_type": "code",
   "execution_count": null,
   "metadata": {},
   "outputs": [],
   "source": [
    "# load as DataFrame\n",
    "with open('primary_results.df', 'rb') as f:\n",
    "    primary_results_df = pickle.load(f)\n",
    "#여기서 primary_results_df는 단순히 변수명이다. / 'rb' read해라 byte단위로"
   ]
  },
  {
   "cell_type": "markdown",
   "metadata": {},
   "source": [
    "#### 2-5. Data Summary  : <font color = red>.groupby()\n",
    "---"
   ]
  },
  {
   "cell_type": "code",
   "execution_count": null,
   "metadata": {},
   "outputs": [],
   "source": [
    "# 공화당 후보들이 각각 받은 votes를 계산\n",
    "rep_df.groupby('candidate').sum()['votes']\n",
    "# sum()까지하면 candidate별 모든 col에대한 sum이 구해지니깐 뒤에 ['votes']를 써서 col을 선택"
   ]
  },
  {
   "cell_type": "markdown",
   "metadata": {},
   "source": [
    "#### 실습 : 군집화 실습 데이터 전처리하기\n",
    "---\n",
    "군집화 실습을 위해 사용할 데이터를 미리 전처리해보자\n",
    "\n",
    "##### 분석에 도움되는 프로그래밍 팁\n",
    "- immutable : 되도록 한번 할당된 변수를 다른 값으로 덮어쓰는 것은 피할 것"
   ]
  },
  {
   "cell_type": "markdown",
   "metadata": {},
   "source": [
    "##### 사용 데이터 : 비누 구매 고객 데이터 (교재 21.6) - `BathSoap.xlsx`\n",
    "- sheet3 : DM_Sheet, 멤버(구매자) 정보 및 비누 구입 정보\n",
    "- sheet4 : Durables, 멤버(구매자)들의 비누 이외 타물품 소유 정보"
   ]
  },
  {
   "cell_type": "markdown",
   "metadata": {},
   "source": [
    "#### <font color = red>pd.read_excel\n",
    "`BathSoap.xlsx` 파일에서 데이터가 있는 sheet를 DataFrame으로 변환\n",
    "* pd.read_excel document 참고\n",
    "* sheet 위치, header로 쓸 row를 잘 지정할 것\n",
    "* row의 시작은 0"
   ]
  },
  {
   "cell_type": "code",
   "execution_count": null,
   "metadata": {},
   "outputs": [],
   "source": [
    "# 비누Brand 정보 / 여기서는 read_csv가 아니라 read_excel을 쓴다.\n",
    "#첫번째 sheet는 sheetname = 0 이다 / header는 컬럼명들을 뜻하며 header=0은 첫번째 row header라는 뜻\n",
    "brand_code_description = pd.read_excel('BathSoap.xlsx', sheetname = 1, header=1)\n",
    "brand_code_description"
   ]
  },
  {
   "cell_type": "code",
   "execution_count": null,
   "metadata": {},
   "outputs": [],
   "source": [
    "# columns들이 Durables 정보들을 나타낸다(예: Fax machine, Radio Clock)\n",
    "all_columns_description = pd.read_excel('BathSoap.xlsx', sheetname = 3, header = 4)\n",
    "all_columns_description"
   ]
  },
  {
   "cell_type": "code",
   "execution_count": null,
   "metadata": {},
   "outputs": [],
   "source": [
    "# df\n",
    "df = pd.read_excel('BathSoap.xlsx', 2, header = 2)\n",
    "# durable_df\n",
    "durable_df = pd.read_excel('BathSoap.xlsx', 3, header = 4)"
   ]
  },
  {
   "cell_type": "markdown",
   "metadata": {},
   "source": [
    "##### pd.merge\n",
    "Durable과 Dm_Sheet의 DataFrame을 통합\n",
    "* 합치는 키가 되는 column을 잘 살필 것\n",
    "* 합치는 방법을 잘 결정할 것"
   ]
  },
  {
   "cell_type": "code",
   "execution_count": null,
   "metadata": {},
   "outputs": [],
   "source": [
    "# df와 durable_df를 합치는거\n",
    "# merged_df\n",
    "merged_df = df.merge(durable_df, left_on='Member id', right_on = 'MEM', how='inner')\n",
    "merged_df"
   ]
  },
  {
   "cell_type": "markdown",
   "metadata": {},
   "source": [
    "#### <font color = red>결측치 처리  - df.fillna OR delete rows\n",
    "* NaN이 있는 행부터 찾을 것\n",
    "* 해당 행의 성질에 따라 행의 값을 채우거나 지울 것\n",
    "* 위의 과정을 시행할 때 `nan_filled_df` 등으로 원래의 df를 copy()해서 진행할 것 - immutable\n",
    "* fillna는 데이터프레임이름.fillna(nan대신 채울값) 이렇게 사용한다 (예) df.fillna(0)"
   ]
  },
  {
   "cell_type": "code",
   "execution_count": null,
   "metadata": {},
   "outputs": [],
   "source": [
    "# check NaN by row\n",
    "nan_s = merged_df.isnull().sum(axis=1) #시리즈로 nan있는 행을 만들어주는거(열로도 응용가능)\n",
    "#nan_s[nan_s != 0] : 이걸로 확인 isnull인거 갯수의 합이 0이면 null이 아니라는것임\n",
    "#통째로 NAN인 행이 4개있다는 것을 알 수 있다.\n",
    "\n",
    "nan_s[nan_s != 0].index #통째로 Nan인 행들의 index들이 나온다\n",
    "merged_df[~(nan_s > 0)] # nan이 0인거 즉, nan없는 행들만 뽑힌다.\n",
    "notNan_df = merged_df[(nan_s==0)] # nan있는 행들을 빼고 새로운 df만듦\n",
    "# Nan이 아닌 부분만 notNan_df라는 DataFrame으로 다시 생성"
   ]
  },
  {
   "cell_type": "markdown",
   "metadata": {},
   "source": [
    "#### Scaling(예 : 연봉과 나이는 범위가 너무 다르기때문에 scale을 맞춰주는작업)\n",
    "* 수치형 데이터인 열은 대부분 normalizaion 해주는 것이 좋다\n",
    "* Scaling이 필요하다고 생각하는 수치형 데이터인 열을 찾아서 열별로 Standard Scaling 해준다\n",
    "    * Statndard : x-열의 평균/열의 표준편차\n",
    "* 위의 과정을 시행할 때 scaled_df 등으로 원래의 df를 copy()해서 진행할 것 - immutable"
   ]
  },
  {
   "cell_type": "code",
   "execution_count": null,
   "metadata": {},
   "outputs": [],
   "source": [
    "# Choose columns\n",
    "\n",
    "# 위의 컬럼들을 Scaling\n",
    "\n",
    "# scaled_df로 저장"
   ]
  },
  {
   "cell_type": "markdown",
   "metadata": {},
   "source": [
    "##### Save DataFrame"
   ]
  },
  {
   "cell_type": "code",
   "execution_count": null,
   "metadata": {},
   "outputs": [],
   "source": []
  },
  {
   "cell_type": "markdown",
   "metadata": {},
   "source": [
    "### 3. Basic Visualization : Scatter Plot of Normalized Total Volume vs. Normalized Value\n",
    "---\n",
    "#### 3-1. `matplotlib.pyplot`"
   ]
  },
  {
   "cell_type": "code",
   "execution_count": null,
   "metadata": {},
   "outputs": [],
   "source": [
    "import matplotlib.pyplot as plt"
   ]
  },
  {
   "cell_type": "code",
   "execution_count": null,
   "metadata": {},
   "outputs": [],
   "source": [
    "xaxis_label = 'Noramlized Total Volume'\n",
    "yaxis_label = 'Noramlized Value'\n",
    "x_range = [-2, 5]\n",
    "y_range = [-2, 5]\n",
    "\n",
    "# plt.scatter\n",
    "# xlabel\n",
    "# ylabel\n",
    "# xlims\n",
    "# ylims\n",
    "# show"
   ]
  },
  {
   "cell_type": "markdown",
   "metadata": {},
   "source": [
    "#### 3-2. `bokeh.js`"
   ]
  },
  {
   "cell_type": "code",
   "execution_count": null,
   "metadata": {},
   "outputs": [],
   "source": [
    "from bokeh.plotting import figure, output_notebook, show\n",
    "from bokeh.models import HoverTool, ColumnDataSource"
   ]
  },
  {
   "cell_type": "code",
   "execution_count": null,
   "metadata": {},
   "outputs": [],
   "source": [
    "xaxis_label = 'Noramlized Total Volume'\n",
    "yaxis_label = 'Noramlized Value'\n",
    "x_range = [-2, 5]\n",
    "y_range = [-2, 5]\n",
    "\n",
    "title = 'Total Volume vs. Value '\n",
    "TOOLS=\"hover,crosshair,pan,wheel_zoom,box_zoom,reset,tap,previewsave,box_select\"\n",
    "\n",
    "\n",
    "# output_notebook()\n",
    "\n",
    "# data source as ColumnDataSource\n",
    "\n",
    "# figure\n",
    "\n",
    "# plot kind\n",
    "\n",
    "# xaxis label\n",
    "# yaxis label\n",
    "\n",
    "# hover Setting\n",
    "\n",
    "# show"
   ]
  }
 ],
 "metadata": {
  "anaconda-cloud": {},
  "kernelspec": {
   "display_name": "Python 3",
   "language": "python",
   "name": "python3"
  },
  "language_info": {
   "codemirror_mode": {
    "name": "ipython",
    "version": 3
   },
   "file_extension": ".py",
   "mimetype": "text/x-python",
   "name": "python",
   "nbconvert_exporter": "python",
   "pygments_lexer": "ipython3",
   "version": "3.6.4"
  }
 },
 "nbformat": 4,
 "nbformat_minor": 2
}
